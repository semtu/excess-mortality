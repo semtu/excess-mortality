{
 "metadata": {
  "language_info": {
   "codemirror_mode": {
    "name": "ipython",
    "version": 3
   },
   "file_extension": ".py",
   "mimetype": "text/x-python",
   "name": "python",
   "nbconvert_exporter": "python",
   "pygments_lexer": "ipython3",
   "version": "3.8.5-final"
  },
  "orig_nbformat": 2,
  "kernelspec": {
   "name": "python_defaultSpec_1614933936816",
   "display_name": "Python 3.8.5 64-bit"
  }
 },
 "nbformat": 4,
 "nbformat_minor": 2,
 "cells": [
  {
   "cell_type": "code",
   "execution_count": 1,
   "metadata": {},
   "outputs": [],
   "source": [
    "#Importing needed libraries\n",
    "import pandas as pd \n",
    "import numpy as np\n",
    "pd.set_option('display.max_columns', None)\n",
    "csv_filename='excess_mortality.csv'"
   ]
  },
  {
   "source": [
    "# Question 1"
   ],
   "cell_type": "markdown",
   "metadata": {}
  },
  {
   "cell_type": "code",
   "execution_count": 2,
   "metadata": {},
   "outputs": [],
   "source": [
    "def question_one(csv_filename):\n",
    "    total_dataframe=pd.read_csv(csv_filename) \n",
    "    trunc_dataframe=total_dataframe[['location','deaths_2020_all_ages','deaths_2019_all_ages']] \n",
    "    list_of_countries=list(trunc_dataframe['location'].unique())\n",
    "    mean_2020=[]\n",
    "    mean_2019=[]\n",
    "    for country in list_of_countries:\n",
    "        mean_2020.append(trunc_dataframe[trunc_dataframe['location']==country]['deaths_2020_all_ages'].mean())\n",
    "        mean_2019.append(trunc_dataframe[trunc_dataframe['location']==country]['deaths_2019_all_ages'].mean())\n",
    "    dataframe=pd.DataFrame([list_of_countries,mean_2020,mean_2019],columns=range(0,37)).transpose()\n",
    "    dataframe.columns=['location','average_deaths_2020_all_ages','average_deaths_2019_all_ages']\n",
    "    dataframe['difference_deaths_2020_2019']=dataframe['average_deaths_2020_all_ages'].subtract(dataframe['average_deaths_2019_all_ages'])\n",
    "    return dataframe"
   ]
  },
  {
   "cell_type": "code",
   "execution_count": 3,
   "metadata": {},
   "outputs": [
    {
     "output_type": "execute_result",
     "data": {
      "text/plain": "            location average_deaths_2020_all_ages  \\\n0            Austria                      1726.57   \n1            Belgium                      2429.62   \n2           Bulgaria                      2378.77   \n3             Canada                      5721.79   \n4              Chile                      2402.55   \n5            Croatia                      1025.48   \n6            Czechia                      2439.67   \n7            Denmark                       1046.7   \n8    England & Wales                      11586.9   \n9            Estonia                      305.302   \n10           Finland                      1052.63   \n11            France                      12509.6   \n12           Germany                      18695.3   \n13            Greece                      2478.45   \n14           Hungary                      2654.44   \n15           Iceland                      43.6792   \n16            Israel                      930.585   \n17             Italy                      13501.9   \n18            Latvia                      542.189   \n19         Lithuania                      826.868   \n20        Luxembourg                      86.4898   \n21       Netherlands                      3229.72   \n22       New Zealand                      625.509   \n23  Northern Ireland                      335.941   \n24            Norway                      774.679   \n25            Poland                      9132.47   \n26          Portugal                      2366.04   \n27          Scotland                      1222.94   \n28          Slovakia                      1070.75   \n29          Slovenia                      449.373   \n30       South Korea                      5793.12   \n31             Spain                      9452.64   \n32            Sweden                      1828.15   \n33       Switzerland                      1394.46   \n34            Taiwan                      3313.51   \n35    United Kingdom                          NaN   \n36     United States                      62768.9   \n\n   average_deaths_2019_all_ages difference_deaths_2020_2019  \n0                       1567.02                     159.547  \n1                       2085.31                     344.315  \n2                       2073.42                     305.351  \n3                       5443.56                     278.228  \n4                       2097.67                     304.874  \n5                       992.519                     32.9599  \n6                       2154.62                     285.051  \n7                       1034.71                     11.9866  \n8                       10139.1                     1447.77  \n9                       294.846                     10.4557  \n10                         1035                     17.6346  \n11                      11498.4                     1011.24  \n12                      18014.8                     680.442  \n13                      2394.96                     83.4874  \n14                      2485.88                     168.558  \n15                      43.4808                    0.198476  \n16                      880.654                     49.9311  \n17                      12364.7                     1137.19  \n18                      531.385                     10.8041  \n19                      734.308                     92.5602  \n20                      82.4615                     4.02826  \n21                      2914.29                     315.429  \n22                      655.538                     -30.029  \n23                      300.135                     35.8066  \n24                      778.038                    -3.35922  \n25                      7838.92                     1293.55  \n26                      2143.73                     222.307  \n27                      1109.44                     113.501  \n28                      1021.44                     49.3077  \n29                      395.135                     54.2379  \n30                      5655.38                     137.738  \n31                      7979.12                     1473.53  \n32                      1652.62                     175.536  \n33                      1298.25                       96.21  \n34                      3367.62                    -54.1026  \n35                          NaN                         NaN  \n36                      54722.8                     8046.01  ",
      "text/html": "<div>\n<style scoped>\n    .dataframe tbody tr th:only-of-type {\n        vertical-align: middle;\n    }\n\n    .dataframe tbody tr th {\n        vertical-align: top;\n    }\n\n    .dataframe thead th {\n        text-align: right;\n    }\n</style>\n<table border=\"1\" class=\"dataframe\">\n  <thead>\n    <tr style=\"text-align: right;\">\n      <th></th>\n      <th>location</th>\n      <th>average_deaths_2020_all_ages</th>\n      <th>average_deaths_2019_all_ages</th>\n      <th>difference_deaths_2020_2019</th>\n    </tr>\n  </thead>\n  <tbody>\n    <tr>\n      <th>0</th>\n      <td>Austria</td>\n      <td>1726.57</td>\n      <td>1567.02</td>\n      <td>159.547</td>\n    </tr>\n    <tr>\n      <th>1</th>\n      <td>Belgium</td>\n      <td>2429.62</td>\n      <td>2085.31</td>\n      <td>344.315</td>\n    </tr>\n    <tr>\n      <th>2</th>\n      <td>Bulgaria</td>\n      <td>2378.77</td>\n      <td>2073.42</td>\n      <td>305.351</td>\n    </tr>\n    <tr>\n      <th>3</th>\n      <td>Canada</td>\n      <td>5721.79</td>\n      <td>5443.56</td>\n      <td>278.228</td>\n    </tr>\n    <tr>\n      <th>4</th>\n      <td>Chile</td>\n      <td>2402.55</td>\n      <td>2097.67</td>\n      <td>304.874</td>\n    </tr>\n    <tr>\n      <th>5</th>\n      <td>Croatia</td>\n      <td>1025.48</td>\n      <td>992.519</td>\n      <td>32.9599</td>\n    </tr>\n    <tr>\n      <th>6</th>\n      <td>Czechia</td>\n      <td>2439.67</td>\n      <td>2154.62</td>\n      <td>285.051</td>\n    </tr>\n    <tr>\n      <th>7</th>\n      <td>Denmark</td>\n      <td>1046.7</td>\n      <td>1034.71</td>\n      <td>11.9866</td>\n    </tr>\n    <tr>\n      <th>8</th>\n      <td>England &amp; Wales</td>\n      <td>11586.9</td>\n      <td>10139.1</td>\n      <td>1447.77</td>\n    </tr>\n    <tr>\n      <th>9</th>\n      <td>Estonia</td>\n      <td>305.302</td>\n      <td>294.846</td>\n      <td>10.4557</td>\n    </tr>\n    <tr>\n      <th>10</th>\n      <td>Finland</td>\n      <td>1052.63</td>\n      <td>1035</td>\n      <td>17.6346</td>\n    </tr>\n    <tr>\n      <th>11</th>\n      <td>France</td>\n      <td>12509.6</td>\n      <td>11498.4</td>\n      <td>1011.24</td>\n    </tr>\n    <tr>\n      <th>12</th>\n      <td>Germany</td>\n      <td>18695.3</td>\n      <td>18014.8</td>\n      <td>680.442</td>\n    </tr>\n    <tr>\n      <th>13</th>\n      <td>Greece</td>\n      <td>2478.45</td>\n      <td>2394.96</td>\n      <td>83.4874</td>\n    </tr>\n    <tr>\n      <th>14</th>\n      <td>Hungary</td>\n      <td>2654.44</td>\n      <td>2485.88</td>\n      <td>168.558</td>\n    </tr>\n    <tr>\n      <th>15</th>\n      <td>Iceland</td>\n      <td>43.6792</td>\n      <td>43.4808</td>\n      <td>0.198476</td>\n    </tr>\n    <tr>\n      <th>16</th>\n      <td>Israel</td>\n      <td>930.585</td>\n      <td>880.654</td>\n      <td>49.9311</td>\n    </tr>\n    <tr>\n      <th>17</th>\n      <td>Italy</td>\n      <td>13501.9</td>\n      <td>12364.7</td>\n      <td>1137.19</td>\n    </tr>\n    <tr>\n      <th>18</th>\n      <td>Latvia</td>\n      <td>542.189</td>\n      <td>531.385</td>\n      <td>10.8041</td>\n    </tr>\n    <tr>\n      <th>19</th>\n      <td>Lithuania</td>\n      <td>826.868</td>\n      <td>734.308</td>\n      <td>92.5602</td>\n    </tr>\n    <tr>\n      <th>20</th>\n      <td>Luxembourg</td>\n      <td>86.4898</td>\n      <td>82.4615</td>\n      <td>4.02826</td>\n    </tr>\n    <tr>\n      <th>21</th>\n      <td>Netherlands</td>\n      <td>3229.72</td>\n      <td>2914.29</td>\n      <td>315.429</td>\n    </tr>\n    <tr>\n      <th>22</th>\n      <td>New Zealand</td>\n      <td>625.509</td>\n      <td>655.538</td>\n      <td>-30.029</td>\n    </tr>\n    <tr>\n      <th>23</th>\n      <td>Northern Ireland</td>\n      <td>335.941</td>\n      <td>300.135</td>\n      <td>35.8066</td>\n    </tr>\n    <tr>\n      <th>24</th>\n      <td>Norway</td>\n      <td>774.679</td>\n      <td>778.038</td>\n      <td>-3.35922</td>\n    </tr>\n    <tr>\n      <th>25</th>\n      <td>Poland</td>\n      <td>9132.47</td>\n      <td>7838.92</td>\n      <td>1293.55</td>\n    </tr>\n    <tr>\n      <th>26</th>\n      <td>Portugal</td>\n      <td>2366.04</td>\n      <td>2143.73</td>\n      <td>222.307</td>\n    </tr>\n    <tr>\n      <th>27</th>\n      <td>Scotland</td>\n      <td>1222.94</td>\n      <td>1109.44</td>\n      <td>113.501</td>\n    </tr>\n    <tr>\n      <th>28</th>\n      <td>Slovakia</td>\n      <td>1070.75</td>\n      <td>1021.44</td>\n      <td>49.3077</td>\n    </tr>\n    <tr>\n      <th>29</th>\n      <td>Slovenia</td>\n      <td>449.373</td>\n      <td>395.135</td>\n      <td>54.2379</td>\n    </tr>\n    <tr>\n      <th>30</th>\n      <td>South Korea</td>\n      <td>5793.12</td>\n      <td>5655.38</td>\n      <td>137.738</td>\n    </tr>\n    <tr>\n      <th>31</th>\n      <td>Spain</td>\n      <td>9452.64</td>\n      <td>7979.12</td>\n      <td>1473.53</td>\n    </tr>\n    <tr>\n      <th>32</th>\n      <td>Sweden</td>\n      <td>1828.15</td>\n      <td>1652.62</td>\n      <td>175.536</td>\n    </tr>\n    <tr>\n      <th>33</th>\n      <td>Switzerland</td>\n      <td>1394.46</td>\n      <td>1298.25</td>\n      <td>96.21</td>\n    </tr>\n    <tr>\n      <th>34</th>\n      <td>Taiwan</td>\n      <td>3313.51</td>\n      <td>3367.62</td>\n      <td>-54.1026</td>\n    </tr>\n    <tr>\n      <th>35</th>\n      <td>United Kingdom</td>\n      <td>NaN</td>\n      <td>NaN</td>\n      <td>NaN</td>\n    </tr>\n    <tr>\n      <th>36</th>\n      <td>United States</td>\n      <td>62768.9</td>\n      <td>54722.8</td>\n      <td>8046.01</td>\n    </tr>\n  </tbody>\n</table>\n</div>"
     },
     "metadata": {},
     "execution_count": 3
    }
   ],
   "source": [
    "question_one(csv_filename)"
   ]
  },
  {
   "source": [
    "# Question 2"
   ],
   "cell_type": "markdown",
   "metadata": {}
  },
  {
   "cell_type": "code",
   "execution_count": 4,
   "metadata": {},
   "outputs": [],
   "source": [
    "def question_two(csv_filename):\n",
    "    total_dataframe=pd.read_csv(csv_filename)\n",
    "    dataframe=total_dataframe[['location','deaths_2020_all_ages','deaths_2019_all_ages']] \n",
    "    dataframe['difference_deaths_2020_2019']=dataframe['deaths_2020_all_ages'].subtract(dataframe['deaths_2019_all_ages']) \n",
    "    dataframe['week']=total_dataframe['Week'] #Adding weeks column to the truncated dataframe\n",
    "    #creating a list of all countries in the dataframe (37 countries in total)\n",
    "    list_of_countries=list(dataframe['location'].unique())\n",
    "    #Using a for loop to iterate through the list of countries while grabbing the top-5 weeks\n",
    "    for country in list_of_countries:\n",
    "        print(f'In {country}, the top-5 weeks are:',end=' ')\n",
    "        print(list(dataframe[dataframe['location']==country][['week','difference_deaths_2020_2019']].sort_values(by='difference_deaths_2020_2019',ascending=False)['week'].head(5)))"
   ]
  },
  {
   "cell_type": "code",
   "execution_count": 5,
   "metadata": {
    "tags": []
   },
   "outputs": [
    {
     "output_type": "stream",
     "name": "stdout",
     "text": "In Austria, the top-5 weeks are: [49, 47, 48, 50, 46]\nIn Belgium, the top-5 weeks are: [15, 14, 45, 16, 46]\nIn Bulgaria, the top-5 weeks are: [48, 49, 47, 50, 46]\nIn Canada, the top-5 weeks are: [17, 18, 16, 15, 19]\nIn Chile, the top-5 weeks are: [23, 24, 25, 22, 26]\nIn Croatia, the top-5 weeks are: [47, 48, 46, 45, 44]\nIn Czechia, the top-5 weeks are: [44, 45, 46, 43, 47]\nIn Denmark, the top-5 weeks are: [51, 52, 15, 12, 13]\nIn England & Wales, the top-5 weeks are: [16, 17, 15, 18, 14]\nIn Estonia, the top-5 weeks are: [52, 14, 31, 39, 48]\nIn Finland, the top-5 weeks are: [47, 17, 37, 26, 15]\nIn France, the top-5 weeks are: [14, 15, 13, 16, 45]\nIn Germany, the top-5 weeks are: [52, 51, 50, 33, 49]\nIn Greece, the top-5 weeks are: [47, 48, 49, 46, 31]\nIn Hungary, the top-5 weeks are: [48, 47, 46, 49, 50]\nIn Iceland, the top-5 weeks are: [36, 1, 4, 21, 2]\nIn Israel, the top-5 weeks are: [41, 38, 43, 42, 40]\nIn Italy, the top-5 weeks are: [13, 12, 14, 15, 11]\nIn Latvia, the top-5 weeks are: [51, 27, 50, 34, 46]\nIn Lithuania, the top-5 weeks are: [51, 52, 49, 50, 47]\nIn Luxembourg, the top-5 weeks are: [48, 15, 47, 49, 45]\nIn Netherlands, the top-5 weeks are: [14, 15, 13, 16, 17]\nIn New Zealand, the top-5 weeks are: [43, 5, 51, 49, 7]\nIn Northern Ireland, the top-5 weeks are: [17, 14, 15, 43, 16]\nIn Norway, the top-5 weeks are: [2, 15, 37, 40, 34]\nIn Poland, the top-5 weeks are: [45, 46, 47, 44, 48]\nIn Portugal, the top-5 weeks are: [29, 50, 49, 51, 30]\nIn Scotland, the top-5 weeks are: [16, 15, 17, 14, 18]\nIn Slovakia, the top-5 weeks are: [45, 46, 48, 47, 44]\nIn Slovenia, the top-5 weeks are: [48, 47, 49, 44, 46]\nIn South Korea, the top-5 weeks are: [6, 34, 5, 18, 7]\nIn Spain, the top-5 weeks are: [14, 13, 15, 16, 12]\nIn Sweden, the top-5 weeks are: [15, 16, 14, 18, 52]\nIn Switzerland, the top-5 weeks are: [49, 45, 47, 46, 48]\nIn Taiwan, the top-5 weeks are: [6, 7, 16, 4, 3]\nIn United Kingdom, the top-5 weeks are: [1, 2, 3, 4, 5]\nIn United States, the top-5 weeks are: [15, 16, 17, 50, 14]\n"
    }
   ],
   "source": [
    "question_two(csv_filename)"
   ]
  },
  {
   "source": [
    "# Question 3"
   ],
   "cell_type": "markdown",
   "metadata": {}
  },
  {
   "cell_type": "code",
   "execution_count": 6,
   "metadata": {},
   "outputs": [],
   "source": [
    "def question_three(csv_filename):\n",
    "    total_dataframe=pd.read_csv(csv_filename) \n",
    "    trunc_dataframe=total_dataframe[['location','deaths_2020_all_ages','deaths_2019_all_ages']] \n",
    "    list_of_countries=list(trunc_dataframe['location'].unique())\n",
    "    mean_2020=[]\n",
    "    mean_2019=[]\n",
    "    for country in list_of_countries:\n",
    "        mean_2020.append(trunc_dataframe[trunc_dataframe['location']==country]['deaths_2020_all_ages'].sum())\n",
    "        mean_2019.append(trunc_dataframe[trunc_dataframe['location']==country]['deaths_2019_all_ages'].sum())\n",
    "    dataframe=pd.DataFrame([list_of_countries,mean_2020,mean_2019],columns=range(0,37)).transpose()\n",
    "    dataframe.columns=['location','sum_deaths_2020_all_ages','sum_deaths_2019_all_ages']\n",
    "    dataframe['difference_deaths_2020_2019']=dataframe['sum_deaths_2020_all_ages'].subtract(dataframe['sum_deaths_2019_all_ages'])\n",
    "    return list(dataframe[dataframe['difference_deaths_2020_2019']>=0]['location'])"
   ]
  },
  {
   "cell_type": "code",
   "execution_count": 7,
   "metadata": {
    "tags": []
   },
   "outputs": [
    {
     "output_type": "execute_result",
     "data": {
      "text/plain": "['Austria',\n 'Belgium',\n 'Bulgaria',\n 'Chile',\n 'Czechia',\n 'Denmark',\n 'England & Wales',\n 'Estonia',\n 'Finland',\n 'France',\n 'Germany',\n 'Hungary',\n 'Iceland',\n 'Israel',\n 'Latvia',\n 'Lithuania',\n 'Netherlands',\n 'Northern Ireland',\n 'Norway',\n 'Poland',\n 'Portugal',\n 'Scotland',\n 'Slovenia',\n 'Spain',\n 'Sweden',\n 'Switzerland',\n 'United Kingdom',\n 'United States']"
     },
     "metadata": {},
     "execution_count": 7
    }
   ],
   "source": [
    "#Out of 37 countries, 28 shows a positive excess Canada, Croatia, Greece, Italy, Luxemborg,  New Zealand, Slovakia, South Korea, Taiwan are the exceptions\n",
    "question_three(csv_filename)"
   ]
  },
  {
   "source": [
    "# Question 4"
   ],
   "cell_type": "markdown",
   "metadata": {}
  },
  {
   "cell_type": "code",
   "execution_count": 8,
   "metadata": {
    "tags": []
   },
   "outputs": [],
   "source": [
    "def question_four(csv_filename):\n",
    "    total_dataframe=pd.read_csv(csv_filename)\n",
    "    tmp_dataframe=total_dataframe.drop(['date','p_scores_all_ages','p_scores_15_64','p_scores_65_74','p_scores_75_84','p_scores_85plus','average_deaths_2015_2019_all_ages'],axis=1)\n",
    "    tmp_dataframe.columns=['location', 'year_2020', 'year_2015','year_2016', 'year_2017', 'year_2018','year_2019', 'year_2010', 'year_2011','year_2012', 'year_2013', 'year_2014','Week', 'year_2021']\n",
    "    list_of_countries=list(total_dataframe['location'].unique())\n",
    "    for country in list_of_countries:\n",
    "        index=tmp_dataframe[tmp_dataframe['location']==country].drop(['location','Week','year_2021'],1).sum().idxmin()\n",
    "        print(f'{country} had its lowest mortality in {index}')"
   ]
  },
  {
   "cell_type": "code",
   "execution_count": 9,
   "metadata": {
    "tags": []
   },
   "outputs": [
    {
     "output_type": "stream",
     "name": "stdout",
     "text": "Austria had its lowest mortality in year_2011\nBelgium had its lowest mortality in year_2011\nBulgaria had its lowest mortality in year_2013\nCanada had its lowest mortality in year_2010\nChile had its lowest mortality in year_2015\nCroatia had its lowest mortality in year_2020\nCzechia had its lowest mortality in year_2014\nDenmark had its lowest mortality in year_2014\nEngland & Wales had its lowest mortality in year_2011\nEstonia had its lowest mortality in year_2015\nFinland had its lowest mortality in year_2011\nFrance had its lowest mortality in year_2011\nGermany had its lowest mortality in year_2015\nGreece had its lowest mortality in year_2015\nHungary had its lowest mortality in year_2014\nIceland had its lowest mortality in year_2012\nIsrael had its lowest mortality in year_2010\nItaly had its lowest mortality in year_2010\nLatvia had its lowest mortality in year_2019\nLithuania had its lowest mortality in year_2019\nLuxembourg had its lowest mortality in year_2010\nNetherlands had its lowest mortality in year_2011\nNew Zealand had its lowest mortality in year_2010\nNorthern Ireland had its lowest mortality in year_2010\nNorway had its lowest mortality in year_2014\nPoland had its lowest mortality in year_2011\nPortugal had its lowest mortality in year_2011\nScotland had its lowest mortality in year_2011\nSlovakia had its lowest mortality in year_2014\nSlovenia had its lowest mortality in year_2010\nSouth Korea had its lowest mortality in year_2010\nSpain had its lowest mortality in year_2010\nSweden had its lowest mortality in year_2019\nSwitzerland had its lowest mortality in year_2011\nTaiwan had its lowest mortality in year_2020\nUnited Kingdom had its lowest mortality in year_2020\nUnited States had its lowest mortality in year_2010\n"
    }
   ],
   "source": [
    "question_four(csv_filename)"
   ]
  },
  {
   "source": [
    "# Question 5"
   ],
   "cell_type": "markdown",
   "metadata": {}
  },
  {
   "cell_type": "code",
   "execution_count": 10,
   "metadata": {},
   "outputs": [],
   "source": [
    "def question_five(csv_filename):\n",
    "    total_dataframe=pd.read_csv(csv_filename)\n",
    "    tmp_dataframe=total_dataframe.drop(['date','p_scores_all_ages','p_scores_15_64','p_scores_65_74','p_scores_75_84','p_scores_85plus','average_deaths_2015_2019_all_ages'],axis=1)\n",
    "    tmp_dataframe.columns=['location', 'year_2020', 'year_2015','year_2016', 'year_2017', 'year_2018','year_2019', 'year_2010', 'year_2011','year_2012', 'year_2013', 'year_2014','Week', 'year_2021']\n",
    "    tmp_dataframe['total_mortality_across_all_years']=tmp_dataframe.drop(['location','Week'],1).sum(1)\n",
    "    for i in range(tmp_dataframe['Week'].nunique()):\n",
    "        index=tmp_dataframe[tmp_dataframe['Week']==i+1]['total_mortality_across_all_years'].idxmax()\n",
    "        print(f'Overall in week {i+1}, {tmp_dataframe.iloc[index][0]} had the highest mortality with a total of {tmp_dataframe.iloc[index][len(tmp_dataframe.columns)-1]}')"
   ]
  },
  {
   "cell_type": "code",
   "execution_count": 11,
   "metadata": {
    "tags": []
   },
   "outputs": [
    {
     "output_type": "stream",
     "name": "stdout",
     "text": "Overall in week 1, United States had the highest mortality with a total of 474556.0\nOverall in week 2, United States had the highest mortality with a total of 480599.0\nOverall in week 3, United States had the highest mortality with a total of 469016.0\nOverall in week 4, United States had the highest mortality with a total of 462645.0\nOverall in week 5, United States had the highest mortality with a total of 458807.0\nOverall in week 6, United States had the highest mortality with a total of 458612.0\nOverall in week 7, United States had the highest mortality with a total of 455371.0\nOverall in week 8, United States had the highest mortality with a total of 449557.0\nOverall in week 9, United States had the highest mortality with a total of 447486.0\nOverall in week 10, United States had the highest mortality with a total of 449485.0\nOverall in week 11, United States had the highest mortality with a total of 443007.0\nOverall in week 12, United States had the highest mortality with a total of 440390.0\nOverall in week 13, United States had the highest mortality with a total of 439759.0\nOverall in week 14, United States had the highest mortality with a total of 448076.0\nOverall in week 15, United States had the highest mortality with a total of 452264.0\nOverall in week 16, United States had the highest mortality with a total of 442265.0\nOverall in week 17, United States had the highest mortality with a total of 435057.0\nOverall in week 18, United States had the highest mortality with a total of 430456.0\nOverall in week 19, United States had the highest mortality with a total of 424199.0\nOverall in week 20, United States had the highest mortality with a total of 416131.0\nOverall in week 21, United States had the highest mortality with a total of 413208.0\nOverall in week 22, United States had the highest mortality with a total of 408096.0\nOverall in week 23, United States had the highest mortality with a total of 409734.0\nOverall in week 24, United States had the highest mortality with a total of 406008.0\nOverall in week 25, United States had the highest mortality with a total of 405070.0\nOverall in week 26, United States had the highest mortality with a total of 404731.0\nOverall in week 27, United States had the highest mortality with a total of 407175.0\nOverall in week 28, United States had the highest mortality with a total of 406804.0\nOverall in week 29, United States had the highest mortality with a total of 406435.0\nOverall in week 30, United States had the highest mortality with a total of 406624.0\nOverall in week 31, United States had the highest mortality with a total of 406488.0\nOverall in week 32, United States had the highest mortality with a total of 407061.0\nOverall in week 33, United States had the highest mortality with a total of 405604.0\nOverall in week 34, United States had the highest mortality with a total of 403861.0\nOverall in week 35, United States had the highest mortality with a total of 404311.0\nOverall in week 36, United States had the highest mortality with a total of 404557.0\nOverall in week 37, United States had the highest mortality with a total of 405222.0\nOverall in week 38, United States had the highest mortality with a total of 407097.0\nOverall in week 39, United States had the highest mortality with a total of 408696.0\nOverall in week 40, United States had the highest mortality with a total of 413441.0\nOverall in week 41, United States had the highest mortality with a total of 414717.0\nOverall in week 42, United States had the highest mortality with a total of 416443.0\nOverall in week 43, United States had the highest mortality with a total of 418804.0\nOverall in week 44, United States had the highest mortality with a total of 422492.0\nOverall in week 45, United States had the highest mortality with a total of 429677.0\nOverall in week 46, United States had the highest mortality with a total of 434299.0\nOverall in week 47, United States had the highest mortality with a total of 439036.0\nOverall in week 48, United States had the highest mortality with a total of 441390.0\nOverall in week 49, United States had the highest mortality with a total of 452742.0\nOverall in week 50, United States had the highest mortality with a total of 458401.0\nOverall in week 51, United States had the highest mortality with a total of 390039.0\nOverall in week 52, United States had the highest mortality with a total of 393609.0\nOverall in week 53, France had the highest mortality with a total of 14065.0\n"
    }
   ],
   "source": [
    "question_five(csv_filename)"
   ]
  }
 ]
}